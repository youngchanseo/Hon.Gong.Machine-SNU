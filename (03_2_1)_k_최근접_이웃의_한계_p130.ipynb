{
  "nbformat": 4,
  "nbformat_minor": 0,
  "metadata": {
    "colab": {
      "provenance": [],
      "authorship_tag": "ABX9TyO6hIF4FSk5/WrZjtgPwz+o",
      "include_colab_link": true
    },
    "kernelspec": {
      "name": "python3",
      "display_name": "Python 3"
    },
    "language_info": {
      "name": "python"
    }
  },
  "cells": [
    {
      "cell_type": "markdown",
      "metadata": {
        "id": "view-in-github",
        "colab_type": "text"
      },
      "source": [
        "<a href=\"https://colab.research.google.com/github/youngchanseo/Hon.Gong.Machine-SNU/blob/main/(03_2_1)_k_%EC%B5%9C%EA%B7%BC%EC%A0%91_%EC%9D%B4%EC%9B%83%EC%9D%98_%ED%95%9C%EA%B3%84_p130.ipynb\" target=\"_parent\"><img src=\"https://colab.research.google.com/assets/colab-badge.svg\" alt=\"Open In Colab\"/></a>"
      ]
    },
    {
      "cell_type": "code",
      "execution_count": 4,
      "metadata": {
        "id": "Igat7xQVTiPw"
      },
      "outputs": [],
      "source": [
        "#http://bit.ly/perch_data\n",
        "import numpy as np\n",
        "perch_length = np.array([8.4, 13.7, 15.0, 16.2, 17.4, 18.0, 18.7, 19.0, 19.6, 20.0, 21.0,\n",
        "       21.0, 21.0, 21.3, 22.0, 22.0, 22.0, 22.0, 22.0, 22.5, 22.5, 22.7,\n",
        "       23.0, 23.5, 24.0, 24.0, 24.6, 25.0, 25.6, 26.5, 27.3, 27.5, 27.5,\n",
        "       27.5, 28.0, 28.7, 30.0, 32.8, 34.5, 35.0, 36.5, 36.0, 37.0, 37.0,\n",
        "       39.0, 39.0, 39.0, 40.0, 40.0, 40.0, 40.0, 42.0, 43.0, 43.0, 43.5,\n",
        "       44.0])\n",
        "perch_weight = np.array([5.9, 32.0, 40.0, 51.5, 70.0, 100.0, 78.0, 80.0, 85.0, 85.0, 110.0,\n",
        "       115.0, 125.0, 130.0, 120.0, 120.0, 130.0, 135.0, 110.0, 130.0,\n",
        "       150.0, 145.0, 150.0, 170.0, 225.0, 145.0, 188.0, 180.0, 197.0,\n",
        "       218.0, 300.0, 260.0, 265.0, 250.0, 250.0, 300.0, 320.0, 514.0,\n",
        "       556.0, 840.0, 685.0, 700.0, 700.0, 690.0, 900.0, 650.0, 820.0,\n",
        "       850.0, 900.0, 1015.0, 820.0, 1100.0, 1000.0, 1100.0, 1000.0,\n",
        "       1000.0])"
      ]
    },
    {
      "cell_type": "code",
      "source": [
        "from sklearn.model_selection import train_test_split\n",
        "\n",
        "#훈련세트와 테스트 세트로 나눔\n",
        "train_input, test_input, train_target, test_target = train_test_split(perch_length, perch_weight, random_state = 42)\n",
        "\n",
        "#훈련 세트와 테스트 세트를 2차원 배열로 바꿉니다.\n",
        "train_input = train_input.reshape(-1, 1)\n",
        "test_input = test_input.reshape(-1, 1)"
      ],
      "metadata": {
        "id": "TEnMAP8Rz4Mt"
      },
      "execution_count": 5,
      "outputs": []
    },
    {
      "cell_type": "code",
      "source": [
        "#최근접 이웃 개수를 3으로 하는 모델을 훈련. (3장 1절에서 했던 내용)\n",
        "from sklearn.neighbors import KNeighborsRegressor\n",
        "knr = KNeighborsRegressor(n_neighbors = 3)\n",
        "knr.fit(train_input, train_target)\n",
        "\n",
        "#이 모델을 사용해 길이가 50cm인 농어의 무게를 예측\n",
        "print(knr.predict([[50]]))\n",
        "#실제 이 농어의 무게는 더 많이 나간다고함 > 문제는..?"
      ],
      "metadata": {
        "colab": {
          "base_uri": "https://localhost:8080/"
        },
        "id": "0k3RwHw206wG",
        "outputId": "ac82cc8f-325d-44c4-cb1b-3de3d46612d0"
      },
      "execution_count": 7,
      "outputs": [
        {
          "output_type": "stream",
          "name": "stdout",
          "text": [
            "[1033.33333333]\n"
          ]
        }
      ]
    },
    {
      "cell_type": "code",
      "source": [
        "#산점도 표시\n",
        "\n",
        "import matplotlib.pyplot as plt\n",
        "\n",
        "#50cm 농어의 이웃을 구함\n",
        "distances, indexes = knr.kneighbors([[50]])\n",
        "\n",
        "#훈련 세트의 산점도를 그림\n",
        "plt.scatter(train_input, train_target)\n",
        "\n",
        "#훈련 세트 중에서 이웃 샘플만 다시 그림\n",
        "plt.scatter(train_input[indexes], train_target[indexes], marker ='D')\n",
        "\n",
        "#50cm 농어 데이터\n",
        "plt.scatter (50, 1033, marker ='^')\n",
        "plt.xlabel=('length')\n",
        "plt.ylabel=('weight')\n",
        "plt.show()"
      ],
      "metadata": {
        "colab": {
          "base_uri": "https://localhost:8080/",
          "height": 430
        },
        "id": "1V9AkFKh1tcO",
        "outputId": "2d62d431-a1d2-4f6a-94b3-81699ec3308f"
      },
      "execution_count": 9,
      "outputs": [
        {
          "output_type": "display_data",
          "data": {
            "text/plain": [
              "<Figure size 640x480 with 1 Axes>"
            ],
            "image/png": "[encoded data removed]"
          },
          "metadata": {}
        }
      ]
    },
    {
      "cell_type": "markdown",
      "source": [
        "길이가 50cm, 무게가 1,033g (예측된 무게)인 농어: 초록색, marker ='^'\n",
        "해당 농어의 주변 샘플: 50g marker ='D'\n",
        "50cm 농어 근처에서 가장 가까운 것은 45cm 근방이기에, k-최근접 이웃 알고리즘은 이 샘플들의 무게를 평균한다."
      ],
      "metadata": {
        "id": "f4yiu9Ph2-MP"
      }
    },
    {
      "cell_type": "code",
      "source": [
        "# 50cm농어 이웃샘플(주황색) target의 평균을 구해보면\n",
        "print(np.mean(train_target[indexes]))"
      ],
      "metadata": {
        "colab": {
          "base_uri": "https://localhost:8080/"
        },
        "id": "MQMEaJzy3wlY",
        "outputId": "a80014d1-e2e2-4a79-f190-f78dcf6e4c3d"
      },
      "execution_count": 11,
      "outputs": [
        {
          "output_type": "stream",
          "name": "stdout",
          "text": [
            "1033.3333333333333\n"
          ]
        }
      ]
    },
    {
      "cell_type": "code",
      "source": [
        "print(knr.predict([[100]]))"
      ],
      "metadata": {
        "colab": {
          "base_uri": "https://localhost:8080/"
        },
        "id": "eLTBkh3h4uA2",
        "outputId": "8667ad0b-a84e-4693-d3b7-c748fd6669b8"
      },
      "execution_count": 14,
      "outputs": [
        {
          "output_type": "stream",
          "name": "stdout",
          "text": [
            "[1033.33333333]\n"
          ]
        }
      ]
    },
    {
      "cell_type": "code",
      "source": [
        "# 100cm 농어를 그래프로 그려보자\n",
        "\n",
        "#100cm 농어의 이웃을 구함\n",
        "\n",
        "import matplotlib.pyplot as plt\n",
        "\n",
        "#100cm 농어의 이웃을 구함\n",
        "distances, indexes = knr.kneighbors([[100]])\n",
        "\n",
        "#훈련 세트의 산점도를 그림\n",
        "plt.scatter(train_input, train_target)\n",
        "\n",
        "#훈련 세트 중에서 이웃 샘플만 다시 그림\n",
        "plt.scatter(train_input[indexes], train_target[indexes], marker ='D')\n",
        "\n",
        "#100cm 농어 데이터\n",
        "plt.scatter (100, 1033, marker ='^')\n",
        "plt.xlabel=('length')\n",
        "plt.ylabel=('weight')\n",
        "plt.show()"
      ],
      "metadata": {
        "colab": {
          "base_uri": "https://localhost:8080/",
          "height": 430
        },
        "id": "UkwlPE7B48rf",
        "outputId": "76332f49-b70b-441b-b9c3-569e1f9d1eb6"
      },
      "execution_count": 17,
      "outputs": [
        {
          "output_type": "display_data",
          "data": {
            "text/plain": [
              "<Figure size 640x480 with 1 Axes>"
            ],
            "image/png": "[encoded data removed]"
          },
          "metadata": {}
        }
      ]
    },
    {
      "cell_type": "markdown",
      "source": [
        "이런식이면 농어의 길이가 아무리 커도 예측되는 무게는 더이상 늘어나지 않음"
      ],
      "metadata": {
        "id": "MdcaCE2p5X05"
      }
    }
  ]
}