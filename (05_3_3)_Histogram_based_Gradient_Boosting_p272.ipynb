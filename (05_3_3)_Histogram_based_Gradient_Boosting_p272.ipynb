{
  "nbformat": 4,
  "nbformat_minor": 0,
  "metadata": {
    "colab": {
      "provenance": [],
      "authorship_tag": "ABX9TyNgmyNiqqPlJYWbLj+o+WWN",
      "include_colab_link": true
    },
    "kernelspec": {
      "name": "python3",
      "display_name": "Python 3"
    },
    "language_info": {
      "name": "python"
    }
  },
  "cells": [
    {
      "cell_type": "markdown",
      "metadata": {
        "id": "view-in-github",
        "colab_type": "text"
      },
      "source": [
        "<a href=\"https://colab.research.google.com/github/youngchanseo/Hon.Gong.Machine-SNU/blob/main/(05_3_3)_Histogram_based_Gradient_Boosting_p272.ipynb\" target=\"_parent\"><img src=\"https://colab.research.google.com/assets/colab-badge.svg\" alt=\"Open In Colab\"/></a>"
      ]
    },
    {
      "cell_type": "code",
      "execution_count": 3,
      "metadata": {
        "id": "5BTCVg3XpTpP"
      },
      "outputs": [],
      "source": [
        "#Full code: https;//bit.ly/hg-05-3\n",
        "import numpy as np\n",
        "import pandas as pd\n",
        "from sklearn.model_selection import train_test_split\n",
        "wine = pd.read_csv('https://raw.githubusercontent.com/youngchanseo/Hon.Gong.Machine-SNU/main/(05_3_0)%20Raw%20data.csv')# https://bit.ly/wine_csv_data\n",
        "data = wine[['alcohol', 'sugar', 'pH']].to_numpy()\n",
        "target = wine['class'].to_numpy()\n",
        "train_input, test_input, train_target, test_target = train_test_split(data, target, test_size=0.2, random_state=42)"
      ]
    },
    {
      "cell_type": "markdown",
      "source": [
        "#Histogram-based Gradient Boosting\n",
        "정형 데이터를 다루는 머신러닝 알고리즘 중에 가장 인기가 높음\n",
        "먼저 입력 특성을 256개 구간으로 나눔 -> 노드를 분할할 때 최적의 분할을 매우 빠르게\n",
        " Histogram based Gradient boosting은 256개 구간중에 하나를 떼어놓고, 누락된 값을 위해 사용됨\n",
        "\n",
        " HistGradientBosstingClassifier\n",
        " - 트리의 개수를 지정하는데 max_iter (부스팅 반복횟수 지정)을 사용\n"
      ],
      "metadata": {
        "id": "5Azsd-xZq4oU"
      }
    },
    {
      "cell_type": "code",
      "source": [
        "from sklearn.model_selection import cross_validate\n",
        "from sklearn.experimental import enable_hist_gradient_boosting\n",
        "from sklearn.ensemble import HistGradientBoostingClassifier\n",
        "\n",
        "hgb = HistGradientBoostingClassifier (random_state =42)\n",
        "scores = cross_validate(hgb, train_input, train_target, return_train_score=True)\n",
        "print(np.mean(scores['train_score']), np.mean(scores['test_score']))"
      ],
      "metadata": {
        "colab": {
          "base_uri": "https://localhost:8080/"
        },
        "id": "3SwF7pbetGPE",
        "outputId": "91ed0892-0ea0-45d8-d9eb-6f6f0c575308"
      },
      "execution_count": 7,
      "outputs": [
        {
          "output_type": "stream",
          "name": "stdout",
          "text": [
            "0.9321723946453317 0.8801241948619236\n"
          ]
        }
      ]
    },
    {
      "cell_type": "markdown",
      "source": [
        "과대 적합을 잘 억제하면서, Gradient Boosting 보다 조금 더 높은 성능을 제공함\n",
        "\n",
        "특성 중요도 확인:\n",
        "- permutation_importance()함수: 하나씩 Random하게 섞어서 모델의 성능이 변화하는지를 관찰하여 어떤 특성이 중요한지 계산"
      ],
      "metadata": {
        "id": "6bL3cyCkvuuk"
      }
    },
    {
      "cell_type": "code",
      "source": [
        "#histogram based graident boosting model을 훈련하고, 훈련세트에서 특성 중요도를 계산\n",
        "# n_repeats 매개변수: 랜덤하게 섞을 회수 지정. 기본값 5\n",
        "\n",
        "from sklearn.inspection import permutation_importance\n",
        "\n",
        "hgb.fit(train_input, train_target)\n",
        "result = permutation_importance (hgb, train_input, train_target, n_repeats = 10, # n_repeats 매개변수: 랜덤하게 섞을 회수 지정. 기본값 5\n",
        "                                random_state=42, n_jobs=-1)\n",
        "print(result.importances_mean)\n"
      ],
      "metadata": {
        "colab": {
          "base_uri": "https://localhost:8080/"
        },
        "id": "uqI7yZeTwGur",
        "outputId": "ab7de34f-3c62-4033-e8cb-ae24d23e4009"
      },
      "execution_count": 20,
      "outputs": [
        {
          "output_type": "stream",
          "name": "stdout",
          "text": [
            "[0.08876275 0.23438522 0.08027708]\n"
          ]
        }
      ]
    },
    {
      "cell_type": "markdown",
      "source": [
        " permutation_importance () 함수가 반환하는 객체\n",
        "- 반복하여 얻은 특성 중요도(importances)\n",
        "- 평균 (importances_mean)\n",
        "- 표준 편차 (importances_std)\n",
        "\n"
      ],
      "metadata": {
        "id": "aAdzClirxozX"
      }
    },
    {
      "cell_type": "code",
      "source": [
        "#Test set\n",
        "\n",
        "result = permutation_importance (hgb, test_input, test_target,\n",
        "                                 n_repeats = 10, random_state=42, n_jobs=-1)\n",
        "print(result.importances_mean)"
      ],
      "metadata": {
        "colab": {
          "base_uri": "https://localhost:8080/"
        },
        "id": "Gpt4MZTHz-DE",
        "outputId": "36d880b3-657c-4943-ce7f-662ce94d833e"
      },
      "execution_count": 21,
      "outputs": [
        {
          "output_type": "stream",
          "name": "stdout",
          "text": [
            "[0.05969231 0.20238462 0.049     ]\n"
          ]
        }
      ]
    },
    {
      "cell_type": "markdown",
      "source": [
        "Test set의 결과를 보면 ( [0.05969231 0.20238462 0.049])\n",
        "\n",
        "Gradient boosting ([0.15872278 0.68010884 0.16116839])과 비슷하게 좀 더 당도에 집중"
      ],
      "metadata": {
        "id": "2obSVDzo0Vkg"
      }
    },
    {
      "cell_type": "code",
      "source": [
        "#test set 에서의 성능을 최종적으로 확인\n",
        "\n",
        "hgb.score(test_input, test_target)"
      ],
      "metadata": {
        "colab": {
          "base_uri": "https://localhost:8080/"
        },
        "id": "4zA3NiTy0xbH",
        "outputId": "2d0faa83-b722-4283-d8c3-97317eeb0f58"
      },
      "execution_count": 22,
      "outputs": [
        {
          "output_type": "execute_result",
          "data": {
            "text/plain": [
              "0.8723076923076923"
            ]
          },
          "metadata": {},
          "execution_count": 22
        }
      ]
    },
    {
      "cell_type": "markdown",
      "source": [
        "Test set에서는 87 % 정확도\n",
        "\n",
        "실전에 투입하면 성능은 이보다는 좀 더 낮을것임"
      ],
      "metadata": {
        "id": "T8wngysz06CH"
      }
    },
    {
      "cell_type": "code",
      "source": [
        "# 가장 대표적인 library: XGBoost\n",
        "\n",
        "from xgboost import XGBClassifier\n",
        "xgb = XGBClassifier (tree_method='hist', random_state=42)\n",
        "scores = cross_validate (xgb, train_input, train_target, return_train_score=True)\n",
        "print(np.mean(scores['train_score']), np.mean(scores['test_score']))"
      ],
      "metadata": {
        "colab": {
          "base_uri": "https://localhost:8080/"
        },
        "id": "_oHhv1yB1PzM",
        "outputId": "58405ea8-5b01-477b-c9e8-79e5cbc00509"
      },
      "execution_count": 24,
      "outputs": [
        {
          "output_type": "stream",
          "name": "stdout",
          "text": [
            "0.9558403027491312 0.8782000074035686\n"
          ]
        }
      ]
    },
    {
      "cell_type": "code",
      "source": [
        "#Microsoft LightGBM\n",
        "\n",
        "from lightgbm import LGBMClassifier\n",
        "lgb = LGBMClassifier (random_state=42)\n",
        "scores = cross_validate(lgb, train_input, train_target, return_train_score=True, n_jobs=-1)\n",
        "print(np.mean(scores['train_score']), np.mean(scores['test_score']))"
      ],
      "metadata": {
        "colab": {
          "base_uri": "https://localhost:8080/"
        },
        "id": "7d2NS3EL14-E",
        "outputId": "4dc69e06-31b7-4881-c518-75d39eefe161"
      },
      "execution_count": 27,
      "outputs": [
        {
          "output_type": "stream",
          "name": "stdout",
          "text": [
            "0.935828414851749 0.8801251203079884\n"
          ]
        }
      ]
    },
    {
      "cell_type": "code",
      "source": [],
      "metadata": {
        "id": "jeQxdHVFwmdQ"
      },
      "execution_count": null,
      "outputs": []
    }
  ]
}