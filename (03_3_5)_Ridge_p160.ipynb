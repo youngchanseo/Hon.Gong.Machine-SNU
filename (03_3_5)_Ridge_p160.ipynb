{
  "nbformat": 4,
  "nbformat_minor": 0,
  "metadata": {
    "colab": {
      "provenance": [],
      "authorship_tag": "ABX9TyOQMgJfuyO5VonUweMTXh+9",
      "include_colab_link": true
    },
    "kernelspec": {
      "name": "python3",
      "display_name": "Python 3"
    },
    "language_info": {
      "name": "python"
    }
  },
  "cells": [
    {
      "cell_type": "markdown",
      "metadata": {
        "id": "view-in-github",
        "colab_type": "text"
      },
      "source": [
        "<a href=\"https://colab.research.google.com/github/youngchanseo/Hon.Gong.Machine-SNU/blob/main/(03_3_5)_Ridge_p160.ipynb\" target=\"_parent\"><img src=\"https://colab.research.google.com/assets/colab-badge.svg\" alt=\"Open In Colab\"/></a>"
      ]
    },
    {
      "cell_type": "code",
      "execution_count": 3,
      "metadata": {
        "id": "9WaZb9sJrVEi"
      },
      "outputs": [],
      "source": [
        "import pandas as pd\n",
        "df = pd.read_csv('https://raw.githubusercontent.com/youngchanseo/Hon.Gong.Machine-SNU/main/(03_3_0)_RAW%20Data%ED%8A%B9%EC%84%B1%EA%B3%B5%ED%95%99_%EB%8D%B0%EC%9D%B4%ED%84%B0%EC%A4%80%EB%B9%84.csv')\n",
        "# 또는 df = pd.read_csv('https://bit.ly/perch_csv_data')\n",
        "perch_full = df.to_numpy()\n",
        "\n",
        "#https://bit.ly/perch_data\n",
        "import numpy as np\n",
        "perch_length = np.array([8.4, 13.7, 15.0, 16.2, 17.4, 18.0, 18.7, 19.0, 19.6, 20.0, 21.0,\n",
        "       21.0, 21.0, 21.3, 22.0, 22.0, 22.0, 22.0, 22.0, 22.5, 22.5, 22.7,\n",
        "       23.0, 23.5, 24.0, 24.0, 24.6, 25.0, 25.6, 26.5, 27.3, 27.5, 27.5,\n",
        "       27.5, 28.0, 28.7, 30.0, 32.8, 34.5, 35.0, 36.5, 36.0, 37.0, 37.0,\n",
        "       39.0, 39.0, 39.0, 40.0, 40.0, 40.0, 40.0, 42.0, 43.0, 43.0, 43.5,\n",
        "       44.0])\n",
        "perch_weight = np.array([5.9, 32.0, 40.0, 51.5, 70.0, 100.0, 78.0, 80.0, 85.0, 85.0, 110.0,\n",
        "       115.0, 125.0, 130.0, 120.0, 120.0, 130.0, 135.0, 110.0, 130.0,\n",
        "       150.0, 145.0, 150.0, 170.0, 225.0, 145.0, 188.0, 180.0, 197.0,\n",
        "       218.0, 300.0, 260.0, 265.0, 250.0, 250.0, 300.0, 320.0, 514.0,\n",
        "       556.0, 840.0, 685.0, 700.0, 700.0, 690.0, 900.0, 650.0, 820.0,\n",
        "       850.0, 900.0, 1015.0, 820.0, 1100.0, 1000.0, 1100.0, 1000.0,\n",
        "       1000.0])\n",
        "\n",
        "#그 다음 perch_full과 perch_weight를 훈련 세트와 테스트 세트로 나눔\n",
        "from sklearn.model_selection import train_test_split\n",
        "train_input, test_input, train_target, test_target = train_test_split(perch_full, perch_weight, random_state =42 )\n",
        "\n",
        "from sklearn.preprocessing import PolynomialFeatures\n",
        "poly = PolynomialFeatures (degree=5, include_bias = False) # 5제곱까지\n",
        "poly.fit(train_input)\n",
        "train_poly = poly.transform(train_input)\n",
        "test_poly = poly.transform(test_input)\n",
        "\n",
        "from sklearn.preprocessing import StandardScaler\n",
        "ss = StandardScaler()\n",
        "ss.fit(train_poly)\n",
        "train_scaled = ss.transform(train_poly)\n",
        "test_scaled = ss.transform(test_poly)"
      ]
    },
    {
      "cell_type": "code",
      "source": [
        "from sklearn.linear_model import Ridge\n",
        "ridge = Ridge()\n",
        "ridge.fit(train_scaled, train_target)\n",
        "print(\"trained ridge score: \",ridge.score(train_scaled, train_target))\n",
        "print(\"tested ridge score: \",ridge.score(test_scaled, test_target))\n",
        "\n",
        "print(ridge)"
      ],
      "metadata": {
        "colab": {
          "base_uri": "https://localhost:8080/"
        },
        "id": "UaLB_08prhku",
        "outputId": "275489f5-3419-4abc-ed0c-9f5695b9f37c"
      },
      "execution_count": 4,
      "outputs": [
        {
          "output_type": "stream",
          "name": "stdout",
          "text": [
            "trained ridge score:  0.9896101671037343\n",
            "tested ridge score:  0.9790693977615387\n",
            "Ridge()\n"
          ]
        }
      ]
    },
    {
      "cell_type": "markdown",
      "source": [
        "확실히 많은 트성을 사용헀음에도 훈련세트에 너무 과대적합되지 않아, 테스트 세트에서도 좋은 성능을 내고 있음\n",
        "\n",
        "Hyperparameter: 머신러닝 모델이  사람이 알려줘야 하는 파라미터. (ex: alpha값)\n",
        "사이킷런과 같은 머신러닝 라이브러리에서는 class와 method의 매개변수로 표현됨\n",
        "\n",
        "Ridge와 Lasso model을 사용할때 규제의 양을 임의로 조절할 수있음.\n",
        "모델의 객체를 만들 때 alpha 매개변수로 규제의 강도를 조절함.\n",
        "alpha의 값이 크면, 규제 강도가 세지므로, 계수 값을 더 줄이고,\n",
        "조금 더 과소 적합되도록 유도함.\n",
        "alpha 값이 작으면 계수를 줄이는 역할이 줄어들고, 선형 모델과 유사해지므로 과대적합될 가능성이 있음\n"
      ],
      "metadata": {
        "id": "IB6HBmOCtP5d"
      }
    },
    {
      "cell_type": "code",
      "source": [
        "# 적절한 alpha 찾기: alpha에 대한 R^2값의 그래프를 그려봄\n",
        "#훈련 세트와 테스트 세트의 점수가 가장 가까운 지점이 최적의 alpha값이 됨\n",
        "\n",
        "import matplotlib.pyplot as plt\n",
        "train_score = []\n",
        "test_score = []"
      ],
      "metadata": {
        "id": "yYI_tg2KuEkk"
      },
      "execution_count": 6,
      "outputs": []
    },
    {
      "cell_type": "code",
      "source": [
        "#alpha 값을 0.001에서 100까지 10배씩 늘려가며 릿지 회귀 모델을 훈련 한 다음 훈련세트와 테스트 세트의 점수를 파이썬 리스트에 저장\n",
        "\n",
        "alpha_list = [0.001, 0.01, 0.1, 1, 10, 100]\n",
        "for alpha in alpha_list:\n",
        "\n",
        "  # Ridge model을 만듦\n",
        "  ridge = Ridge(alpha=alpha)\n",
        "  #Ridge model을 훈련\n",
        "  ridge.fit(train_scaled, train_target)\n",
        "  #훈련 점수와 테스트 점수를 저장\n",
        "  train_score.append(ridge.score(train_scaled, train_target))\n",
        "  test_score.append(ridge.score(test_scaled, test_target))"
      ],
      "metadata": {
        "id": "T_SOlGYluoBA"
      },
      "execution_count": 7,
      "outputs": []
    },
    {
      "cell_type": "code",
      "source": [
        "# 그래프그리기\n",
        "\n",
        "plt.plot(np.log10(alpha_list), train_score)\n",
        "plt.plot(np.log10(alpha_list), test_score)\n",
        "plt.xlabel('log10(alpha)')\n",
        "plt.ylabel('R^2')\n",
        "plt.show()"
      ],
      "metadata": {
        "colab": {
          "base_uri": "https://localhost:8080/",
          "height": 449
        },
        "id": "N0FeI5Dbvn6G",
        "outputId": "6b47a0d9-6355-4bce-a66d-df2b2084a07c"
      },
      "execution_count": 9,
      "outputs": [
        {
          "output_type": "display_data",
          "data": {
            "text/plain": [
              "<Figure size 640x480 with 1 Axes>"
            ],
            "image/png": "[encoded data removed]"
          },
          "metadata": {}
        }
      ]
    },
    {
      "cell_type": "markdown",
      "source": [
        "파랑(위): 훈련세트 그래프, 오렌지(아래): 테스트 세트 그래프\n",
        "\n",
        "테스트 세트의 점수가 가장 높은 alpha = 10^-1일때 최종 모델 훈련하기로 결정함"
      ],
      "metadata": {
        "id": "GTrmKWmkwNjR"
      }
    },
    {
      "cell_type": "code",
      "source": [
        "# Ridge model을 만듦\n",
        "ridge = Ridge(alpha=0.1)\n",
        "#Ridge model을 훈련\n",
        "ridge.fit(train_scaled, train_target)\n",
        "#훈련 점수와 테스트 점수를 저장\n",
        "print(ridge.score(train_scaled, train_target))\n",
        "print(ridge.score(test_scaled, test_target))"
      ],
      "metadata": {
        "colab": {
          "base_uri": "https://localhost:8080/"
        },
        "id": "Nz1oe3rdwc2i",
        "outputId": "02e3926e-2f9f-4a60-9866-162493ecaa82"
      },
      "execution_count": 12,
      "outputs": [
        {
          "output_type": "stream",
          "name": "stdout",
          "text": [
            "0.9903815817570367\n",
            "0.9827976465386928\n"
          ]
        }
      ]
    },
    {
      "cell_type": "markdown",
      "source": [],
      "metadata": {
        "id": "MsIL-v0iue3O"
      }
    }
  ]
}