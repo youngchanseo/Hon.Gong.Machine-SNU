{
  "nbformat": 4,
  "nbformat_minor": 0,
  "metadata": {
    "colab": {
      "provenance": [],
      "authorship_tag": "ABX9TyPs5F3tS7bwEQg107kbvTsq",
      "include_colab_link": true
    },
    "kernelspec": {
      "name": "python3",
      "display_name": "Python 3"
    },
    "language_info": {
      "name": "python"
    }
  },
  "cells": [
    {
      "cell_type": "markdown",
      "metadata": {
        "id": "view-in-github",
        "colab_type": "text"
      },
      "source": [
        "<a href=\"https://colab.research.google.com/github/youngchanseo/Hon.Gong.Machine-SNU/blob/main/(03_3_2)_%EC%82%AC%EC%9D%B4%ED%82%B7%EB%9F%B0%EC%9D%98_%EB%B3%80%ED%99%98%EA%B8%B0_p154.ipynb\" target=\"_parent\"><img src=\"https://colab.research.google.com/assets/colab-badge.svg\" alt=\"Open In Colab\"/></a>"
      ]
    },
    {
      "cell_type": "code",
      "execution_count": 4,
      "metadata": {
        "id": "yYCzl74rb80U"
      },
      "outputs": [],
      "source": [
        "import pandas as pd\n",
        "df = pd.read_csv('https://raw.githubusercontent.com/youngchanseo/Hon.Gong.Machine-SNU/main/03-3-0_RAW%20Data%ED%8A%B9%EC%84%B1%EA%B3%B5%ED%95%99_%EB%8D%B0%EC%9D%B4%ED%84%B0%EC%A4%80%EB%B9%84.csv')\n",
        "# 또는 df = pd.read_csv('https://bit.ly/perch_csv_data')\n",
        "perch_full = df.to_numpy()\n",
        "\n",
        "#https://bit.ly/perch_data\n",
        "import numpy as np\n",
        "perch_length = np.array([8.4, 13.7, 15.0, 16.2, 17.4, 18.0, 18.7, 19.0, 19.6, 20.0, 21.0,\n",
        "       21.0, 21.0, 21.3, 22.0, 22.0, 22.0, 22.0, 22.0, 22.5, 22.5, 22.7,\n",
        "       23.0, 23.5, 24.0, 24.0, 24.6, 25.0, 25.6, 26.5, 27.3, 27.5, 27.5,\n",
        "       27.5, 28.0, 28.7, 30.0, 32.8, 34.5, 35.0, 36.5, 36.0, 37.0, 37.0,\n",
        "       39.0, 39.0, 39.0, 40.0, 40.0, 40.0, 40.0, 42.0, 43.0, 43.0, 43.5,\n",
        "       44.0])\n",
        "perch_weight = np.array([5.9, 32.0, 40.0, 51.5, 70.0, 100.0, 78.0, 80.0, 85.0, 85.0, 110.0,\n",
        "       115.0, 125.0, 130.0, 120.0, 120.0, 130.0, 135.0, 110.0, 130.0,\n",
        "       150.0, 145.0, 150.0, 170.0, 225.0, 145.0, 188.0, 180.0, 197.0,\n",
        "       218.0, 300.0, 260.0, 265.0, 250.0, 250.0, 300.0, 320.0, 514.0,\n",
        "       556.0, 840.0, 685.0, 700.0, 700.0, 690.0, 900.0, 650.0, 820.0,\n",
        "       850.0, 900.0, 1015.0, 820.0, 1100.0, 1000.0, 1100.0, 1000.0,\n",
        "       1000.0])\n",
        "\n",
        "#그 다음 perch_full과 perch_weight를 훈련 세트와 테스트 세트로 나눔\n",
        "from sklearn.model_selection import train_test_split\n",
        "train_input, test_input, train_target, test_target = train_test_split(perch_full, perch_weight, random_state =42 )"
      ]
    },
    {
      "cell_type": "markdown",
      "source": [
        "사이킷런의 변환기 transformer:\n",
        "-> 특성을 만들거나 전처리하기 위한 다양한 클래스\n",
        "\n",
        " fit(), trnasform(), PolynomialFeatures"
      ],
      "metadata": {
        "id": "MIcI6j0lfh3P"
      }
    },
    {
      "cell_type": "code",
      "source": [
        "from sklearn.preprocessing import PolynomialFeatures\n",
        "\n",
        "poly = PolynomialFeatures()\n",
        "poly.fit([[2, 3]])\n",
        "print(poly.transform([[2, 3]]))"
      ],
      "metadata": {
        "colab": {
          "base_uri": "https://localhost:8080/"
        },
        "id": "USEcFnpKcCh6",
        "outputId": "107d99ac-0957-4545-e345-5f2eb312ea42"
      },
      "execution_count": 5,
      "outputs": [
        {
          "output_type": "stream",
          "name": "stdout",
          "text": [
            "[[1. 2. 3. 4. 6. 9.]]\n"
          ]
        }
      ]
    },
    {
      "cell_type": "markdown",
      "source": [
        "변환기 transformer class:  입력 데이터를 변환하는데, target data가 필요하지 않음. 따라서 model class와는 다르게, fit() method에 입력 데이터만 전달함.\n",
        "- fit() method: 새롭게 만들 특성 조합을 찾음\n",
        "- trnasform() method: 실제로 데이터를 변환\n",
        "\n",
        "PolynomialFeatures class: 기본적으로 각 특성을 제곱한 항을 추가하고, 특성끼리 서로 곱한 항을 추가함.\n",
        "\n",
        "무게 = a * 길이 + b * 높이 + c*두께 +d*1\n",
        "\n",
        "2, 3 을 각기 제곱한 4와 9가 추가되고, 2와 3을 곱한 6이 추가됨, + 1\n",
        "특성: (길이, 높이, 두께, 1)\n",
        "\n",
        "but, 사이킷런의 선형 모델은 자동으로 절편을 추가하므로 굳이 이렇게 특성을 만들 필요가 없음\n",
        "\n"
      ],
      "metadata": {
        "id": "0zitBC0Tf-kw"
      }
    },
    {
      "cell_type": "code",
      "source": [
        "poly = PolynomialFeatures(include_bias = False)\n",
        "poly.fit([[2, 3]])\n",
        "print(poly.transform([[2, 3]]))"
      ],
      "metadata": {
        "colab": {
          "base_uri": "https://localhost:8080/"
        },
        "id": "SmNyuuePh_2n",
        "outputId": "507d204e-2496-4639-df7a-c8c27cb0f520"
      },
      "execution_count": 7,
      "outputs": [
        {
          "output_type": "stream",
          "name": "stdout",
          "text": [
            "[[2. 3. 4. 6. 9.]]\n"
          ]
        }
      ]
    },
    {
      "cell_type": "markdown",
      "source": [
        "include_bias = False로 지정하지 않아도 사이킷 런 모델은 자동으로 특성에 추가된 절편 항을 무시하지만,\n",
        "\n",
        "여기에서는 혼돈을 피하기 위해 명시적으로 지정함"
      ],
      "metadata": {
        "id": "3y5FQ5fCidMW"
      }
    },
    {
      "cell_type": "code",
      "source": [
        "poly = PolynomialFeatures(include_bias = False)\n",
        "poly.fit(train_input)\n",
        "train_poly = poly.transform(train_input)\n",
        "print(train_poly.shape)"
      ],
      "metadata": {
        "colab": {
          "base_uri": "https://localhost:8080/"
        },
        "id": "ltYNd4BmitnH",
        "outputId": "9b1b7ee6-98aa-45ed-bd7a-e5d47ef3940b"
      },
      "execution_count": 8,
      "outputs": [
        {
          "output_type": "stream",
          "name": "stdout",
          "text": [
            "(42, 9)\n"
          ]
        }
      ]
    },
    {
      "cell_type": "code",
      "source": [
        "poly.get_feature_names_out()\n",
        "# 이 method를 호출하면, 9개의 특성이 각각 어떤 입력의 조합으로 만들어졌는지 알려줌."
      ],
      "metadata": {
        "colab": {
          "base_uri": "https://localhost:8080/"
        },
        "id": "AZSGjFLUjK1o",
        "outputId": "41385d28-30da-4d96-d8a8-eb3e0840a801"
      },
      "execution_count": 9,
      "outputs": [
        {
          "output_type": "execute_result",
          "data": {
            "text/plain": [
              "array(['x0', 'x1', 'x2', 'x0^2', 'x0 x1', 'x0 x2', 'x1^2', 'x1 x2',\n",
              "       'x2^2'], dtype=object)"
            ]
          },
          "metadata": {},
          "execution_count": 9
        }
      ]
    },
    {
      "cell_type": "code",
      "source": [
        "test_poly = poly.transform(test_input)"
      ],
      "metadata": {
        "id": "4dAGJK3xjVej"
      },
      "execution_count": 10,
      "outputs": []
    }
  ]
}