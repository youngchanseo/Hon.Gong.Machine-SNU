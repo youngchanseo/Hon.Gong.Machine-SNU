{
  "nbformat": 4,
  "nbformat_minor": 0,
  "metadata": {
    "colab": {
      "provenance": [],
      "authorship_tag": "ABX9TyP2SnJDTbmxBZio4pCrduMd",
      "include_colab_link": true
    },
    "kernelspec": {
      "name": "python3",
      "display_name": "Python 3"
    },
    "language_info": {
      "name": "python"
    }
  },
  "cells": [
    {
      "cell_type": "markdown",
      "metadata": {
        "id": "view-in-github",
        "colab_type": "text"
      },
      "source": [
        "<a href=\"https://colab.research.google.com/github/youngchanseo/Hon.Gong.Machine-SNU/blob/main/(05_3_2)_%EA%B7%B8%EB%9E%98%EB%94%94%EC%96%B8%ED%8A%B8_%EB%B6%80%EC%8A%A4%ED%8C%85_p271.ipynb\" target=\"_parent\"><img src=\"https://colab.research.google.com/assets/colab-badge.svg\" alt=\"Open In Colab\"/></a>"
      ]
    },
    {
      "cell_type": "code",
      "execution_count": 2,
      "metadata": {
        "id": "tu5Z3oDHz2OA"
      },
      "outputs": [],
      "source": [
        "import numpy as np\n",
        "import pandas as pd\n",
        "from sklearn.model_selection import train_test_split\n",
        "wine = pd.read_csv('https://raw.githubusercontent.com/youngchanseo/Hon.Gong.Machine-SNU/main/(05_3_0)%20Raw%20data.csv')# https://bit.ly/wine_csv_data\n",
        "data = wine[['alcohol', 'sugar', 'pH']].to_numpy()\n",
        "target = wine['class'].to_numpy()\n",
        "train_input, test_input, train_target, test_target = train_test_split(data, target, test_size=0.2, random_state=42)"
      ]
    },
    {
      "cell_type": "markdown",
      "source": [
        "# Gradient Boosting\n",
        " 깊이가 얕은 결정 트리를 사용, 이전 트리의 오차를 보완하는 Ensemble\n",
        "\n",
        "GradientBoostingClassifier\n",
        "- 경사 하강법 사용하여 tree를 ensemble에 추가\n",
        "- 기본적은로 깊이가 3인 결정 트리를 100개 사용\n",
        "- 깊이가 얕은 결정 트리를 사용하여 과대 적합에 강함, 높은 일반화 성능\n"
      ],
      "metadata": {
        "id": "ztA8sAQ-2AJN"
      }
    },
    {
      "cell_type": "code",
      "source": [
        "#GradientBoostingClassifier를 사용해 와인 데이터 셋의 교차 검증 점수를 확인\n",
        "#GradientBoosting은 Decision Tree의 개수를 늘려도 과대적합에 매우 강함\n",
        "\n",
        "from sklearn.model_selection import cross_validate\n",
        "from sklearn.ensemble import GradientBoostingClassifier\n",
        "gb = GradientBoostingClassifier(random_state=42)\n",
        "scores = cross_validate(gb, train_input, train_target, return_train_score=True, n_jobs=-1)\n",
        "print(np.mean(scores['train_score']), np.mean(scores['test_score']))\n"
      ],
      "metadata": {
        "colab": {
          "base_uri": "https://localhost:8080/"
        },
        "id": "gmnB1mhc2EN1",
        "outputId": "54886c16-a7a2-4841-9751-4141ad51dbaa"
      },
      "execution_count": 5,
      "outputs": [
        {
          "output_type": "stream",
          "name": "stdout",
          "text": [
            "0.8881086892152563 0.8720430147331015\n"
          ]
        }
      ]
    },
    {
      "cell_type": "code",
      "source": [
        "#학습률을 증가시키고 트리의 개수를 늘리면 성능이 향상됨\n",
        "gb = GradientBoostingClassifier(n_estimators=500, learning_rate = 0.2, random_state=42)\n",
        "scores = cross_validate(gb, train_input, train_target, return_train_score=True, n_jobs=-1)\n",
        "print(np.mean(scores['train_score']), np.mean(scores['test_score']))"
      ],
      "metadata": {
        "colab": {
          "base_uri": "https://localhost:8080/"
        },
        "id": "uP2u_WIqnoxK",
        "outputId": "411decca-0352-4fc0-ed8e-c44b154adbdf"
      },
      "execution_count": 6,
      "outputs": [
        {
          "output_type": "stream",
          "name": "stdout",
          "text": [
            "0.9464595437171814 0.8780082549788999\n"
          ]
        }
      ]
    },
    {
      "cell_type": "code",
      "source": [],
      "metadata": {
        "id": "0t3L04DjoAZt"
      },
      "execution_count": null,
      "outputs": []
    }
  ]
}