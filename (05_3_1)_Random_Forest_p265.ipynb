{
  "nbformat": 4,
  "nbformat_minor": 0,
  "metadata": {
    "colab": {
      "provenance": [],
      "authorship_tag": "ABX9TyOU83gxOltNvz0CUePk7usx",
      "include_colab_link": true
    },
    "kernelspec": {
      "name": "python3",
      "display_name": "Python 3"
    },
    "language_info": {
      "name": "python"
    }
  },
  "cells": [
    {
      "cell_type": "markdown",
      "metadata": {
        "id": "view-in-github",
        "colab_type": "text"
      },
      "source": [
        "<a href=\"https://colab.research.google.com/github/youngchanseo/Hon.Gong.Machine-SNU/blob/main/(05_3_1)_Random_Forest_p265.ipynb\" target=\"_parent\"><img src=\"https://colab.research.google.com/assets/colab-badge.svg\" alt=\"Open In Colab\"/></a>"
      ]
    },
    {
      "cell_type": "markdown",
      "source": [
        "# 정형 데이터와 비정형 데이터\n",
        "정형 데이터 structured data\n",
        "-  어떤 구조로 되어 있는 데이터\n",
        "- csv나 database, 혹은 excel에 저장하기 쉬움\n",
        "\n",
        "비정형 데이터 unstructured data\n",
        "- database나 excel로 표현하기 어려운 것들\n",
        "- 글 text data, 디지털 카메라 사진, 디지털 음악"
      ],
      "metadata": {
        "id": "Ql-HsrP-c-t0"
      }
    },
    {
      "cell_type": "markdown",
      "source": [
        "# Random Forest\n",
        "\n",
        "앙상블 학습의 대표 주자중 하나\n",
        "boosttrap samp;e\n",
        "- ex) 1000개의 샘플이 들어있는 가방에서 100개의 샘플을 뽑는다면, 먼저 1개를 뽑고, 뽑았던 1개를 다시 가방에 넣음 = > 중복된 샘플을 뽑을 수 있음"
      ],
      "metadata": {
        "id": "flev70L9t3PG"
      }
    },
    {
      "cell_type": "code",
      "source": [
        "import numpy as np\n",
        "import pandas as pd\n",
        "from sklearn.model_selection import train_test_split\n",
        "wine = pd.read_csv('https://raw.githubusercontent.com/youngchanseo/Hon.Gong.Machine-SNU/main/(05_3_0)%20Raw%20data.csv')# https://bit.ly/wine_csv_data\n",
        "data = wine[['alcohol', 'sugar', 'pH']].to_numpy()\n",
        "target = wine['class'].to_numpy()\n",
        "train_input, test_input, train_target, test_target = train_test_split(data, target, test_size=0.2, random_state=42)\n"
      ],
      "metadata": {
        "id": "XRt_PJDT74bv"
      },
      "execution_count": 3,
      "outputs": []
    },
    {
      "cell_type": "markdown",
      "source": [
        "cross_validate() 함수를 사용해 교차 검증을 수행했음\n",
        "\n",
        "RandomForestcalssifier는 기본적으로 100개의 결정 트리를 사용하므로 n_jobs 매개변수를 -1로 지정하여 모든 cpu코어를 사용하는 것이 좋음\n",
        "\n",
        "\n"
      ],
      "metadata": {
        "id": "-cdGzXT798hF"
      }
    },
    {
      "cell_type": "code",
      "source": [
        "from sklearn.model_selection import cross_validate\n",
        "from sklearn.ensemble import RandomForestClassifier\n",
        "rf = RandomForestClassifier (n_jobs=-1, random_state=42)\n",
        "scores = cross_validate(rf, train_input, train_target, return_train_score=True, n_jobs=-1)\n",
        "print(np.mean(scores['train_score']), np.mean(scores['test_score']))"
      ],
      "metadata": {
        "colab": {
          "base_uri": "https://localhost:8080/"
        },
        "id": "8Q2A3l99SwR_",
        "outputId": "5da3e11f-8ccb-45ea-8243-2fd1cb906e4e"
      },
      "execution_count": 7,
      "outputs": [
        {
          "output_type": "stream",
          "name": "stdout",
          "text": [
            "0.9973541965122431 0.8905151032797809\n"
          ]
        }
      ]
    },
    {
      "cell_type": "markdown",
      "source": [
        "Random Forest는 Decision Tree의 ensemble이기에 DecisioTreeClassifier가 제공하는 중요한 매개변수를 모두 제공함\n",
        "- criterion, max_depth, max_features, min_samples_split, min_impurity_decrease, min_sample 등\n",
        "- 특성 중요도: 각 결정 트리의 특성중요도를 취합함\n",
        "\n"
      ],
      "metadata": {
        "id": "eGPxmexUZWlF"
      }
    },
    {
      "cell_type": "code",
      "source": [
        "rf.fit(train_input, train_target)\n",
        "print(rf.feature_importances_)"
      ],
      "metadata": {
        "colab": {
          "base_uri": "https://localhost:8080/"
        },
        "id": "Ttye5YOGYTpr",
        "outputId": "0066707c-5af5-4374-ee19-9cdca839017d"
      },
      "execution_count": 5,
      "outputs": [
        {
          "output_type": "stream",
          "name": "stdout",
          "text": [
            "[0.23167441 0.50039841 0.26792718]\n"
          ]
        }
      ]
    },
    {
      "cell_type": "markdown",
      "source": [
        "각각 [알코올 도수, 당도, pH]\n",
        "- (05-1) Decision Tree에서는 다음과 같았음\n",
        " - [0.12345626 .86862934 0.0079144]\n",
        "- 두번째 특성인 당도의 중요도가 감소\n",
        "- 알코올 도수, pH 특성 중요도 조금 상승\n",
        "\n",
        "random forest가 특성의 일부를 random하게 선택해서 결정 트리를 훈련\n",
        "\n",
        "RandomForestClassifier\n",
        "- 자체적으로 모델 평가: 중복을 허용하여 boostrap sample을 만들어 결정 트리를 훈련함\n",
        "- OOB (Out Of Bag): BoostStrap Sample에 포함되지 않는 sample\n",
        "- OOB 를 사용하여 검증 세트의 역할로: OOB로 boot strap sample로 훈련한 결정 트리를 평가 (oob_score = True로 지정해야 함)"
      ],
      "metadata": {
        "id": "jg4BdZU5YwM6"
      }
    },
    {
      "cell_type": "code",
      "source": [
        "rf = RandomForestClassifier (oob_score = True, n_jobs =-1, random_state =42)\n",
        "rf.fit(train_input, train_target)\n",
        "print(rf.oob_score_)\n",
        "\n"
      ],
      "metadata": {
        "colab": {
          "base_uri": "https://localhost:8080/"
        },
        "id": "vy0LxpTcqXqv",
        "outputId": "54557044-cbfe-4a2d-9afe-5022cc4c2489"
      },
      "execution_count": 8,
      "outputs": [
        {
          "output_type": "stream",
          "name": "stdout",
          "text": [
            "0.8934000384837406\n"
          ]
        }
      ]
    }
  ]
}