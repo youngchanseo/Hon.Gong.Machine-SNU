{
  "nbformat": 4,
  "nbformat_minor": 0,
  "metadata": {
    "colab": {
      "provenance": [],
      "authorship_tag": "ABX9TyPHF6ZxBs9IhHtGghWxDISA",
      "include_colab_link": true
    },
    "kernelspec": {
      "name": "python3",
      "display_name": "Python 3"
    },
    "language_info": {
      "name": "python"
    }
  },
  "cells": [
    {
      "cell_type": "markdown",
      "metadata": {
        "id": "view-in-github",
        "colab_type": "text"
      },
      "source": [
        "<a href=\"https://colab.research.google.com/github/youngchanseo/Hon.Gong.Machine-SNU/blob/main/(05_3_1)_Random_Forest_p265.ipynb\" target=\"_parent\"><img src=\"https://colab.research.google.com/assets/colab-badge.svg\" alt=\"Open In Colab\"/></a>"
      ]
    },
    {
      "cell_type": "code",
      "execution_count": null,
      "metadata": {
        "id": "dS2yS6JdcxHZ"
      },
      "outputs": [],
      "source": []
    },
    {
      "cell_type": "markdown",
      "source": [],
      "metadata": {
        "id": "fOwx0xMoc-oj"
      }
    },
    {
      "cell_type": "markdown",
      "source": [
        "# 정형 데이터와 비정형 데이터\n",
        "정형 데이터 structured data\n",
        "-  어떤 구조로 되어 있는 데이터\n",
        "- csv나 database, 혹은 excel에 저장하기 쉬움\n",
        "\n",
        "비정형 데이터 unstructured data\n",
        "- database나 excel로 표현하기 어려운 것들\n",
        "- 글 text data, 디지털 카메라 사진, 디지털 음악"
      ],
      "metadata": {
        "id": "Ql-HsrP-c-t0"
      }
    },
    {
      "cell_type": "markdown",
      "source": [
        "# Random Forest\n",
        "\n",
        "앙상블 학습의 대표 주자중 하나\n",
        "boosttrap samp;e\n",
        "- ex) 1000개의 샘플이 들어있는 가방에서 100개의 샘플을 뽑는다면, 먼저 1개를 뽑고, 뽑았던 1개를 다시 가방에 넣음 = > 중복된 샘플을 뽑을 수 있음"
      ],
      "metadata": {
        "id": "flev70L9t3PG"
      }
    },
    {
      "cell_type": "code",
      "source": [
        "import numpy as np\n",
        "import pandas as pd\n",
        "from sklearn.model_selection import train_test_split\n",
        "wine = pd.read_csv('https://bit.ly/wine_csv_data')\n",
        "data = wine[['alcohol', 'sugar', 'pH']].to_numpy()\n",
        "target = wine['class'].to_numpy()\n",
        "train_input, test_input, train_target, test_target = train_test_split(data, target, test_size=0.2, random_state=42)\n"
      ],
      "metadata": {
        "id": "XRt_PJDT74bv"
      },
      "execution_count": 3,
      "outputs": []
    },
    {
      "cell_type": "markdown",
      "source": [
        "cross_validate() 함수를 사용해 교차 검증을 수행했음\n",
        "\n",
        "RandomForestcalssifier는 기본적으로 100개의 결정 트리를 사용하므로 n_jobs 매개변수를 -1로 지정하여 모든 cpu코어를 사용하는 것이 좋음\n",
        "\n",
        "\n"
      ],
      "metadata": {
        "id": "-cdGzXT798hF"
      }
    }
  ]
}