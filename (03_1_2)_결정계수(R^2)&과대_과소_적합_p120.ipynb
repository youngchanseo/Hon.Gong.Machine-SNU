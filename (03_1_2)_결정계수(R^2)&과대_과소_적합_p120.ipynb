{
  "nbformat": 4,
  "nbformat_minor": 0,
  "metadata": {
    "colab": {
      "provenance": [],
      "authorship_tag": "ABX9TyPsPy2HcAsO9qYiKk0rrYC0",
      "include_colab_link": true
    },
    "kernelspec": {
      "name": "python3",
      "display_name": "Python 3"
    },
    "language_info": {
      "name": "python"
    }
  },
  "cells": [
    {
      "cell_type": "markdown",
      "metadata": {
        "id": "view-in-github",
        "colab_type": "text"
      },
      "source": [
        "<a href=\"https://colab.research.google.com/github/youngchanseo/Hon.Gong.Machine-SNU/blob/main/(03_1_2)_%EA%B2%B0%EC%A0%95%EA%B3%84%EC%88%98(R%5E2)%26%EA%B3%BC%EB%8C%80_%EA%B3%BC%EC%86%8C_%EC%A0%81%ED%95%A9_p120.ipynb\" target=\"_parent\"><img src=\"https://colab.research.google.com/assets/colab-badge.svg\" alt=\"Open In Colab\"/></a>"
      ]
    },
    {
      "cell_type": "code",
      "execution_count": 1,
      "metadata": {
        "id": "XiliP4PrsKLY"
      },
      "outputs": [],
      "source": [
        "#Full code; https://bit.ly/hg-03-1\n",
        "#Data set: http://bit.ly/perch_data\n",
        "\n",
        "import numpy as np\n",
        "perch_length = np.array([8.4, 13.7, 15.0, 16.2, 17.4, 18.0, 18.7, 19.0, 19.6, 20.0, 21.0,\n",
        "       21.0, 21.0, 21.3, 22.0, 22.0, 22.0, 22.0, 22.0, 22.5, 22.5, 22.7,\n",
        "       23.0, 23.5, 24.0, 24.0, 24.6, 25.0, 25.6, 26.5, 27.3, 27.5, 27.5,\n",
        "       27.5, 28.0, 28.7, 30.0, 32.8, 34.5, 35.0, 36.5, 36.0, 37.0, 37.0,\n",
        "       39.0, 39.0, 39.0, 40.0, 40.0, 40.0, 40.0, 42.0, 43.0, 43.0, 43.5,\n",
        "       44.0])\n",
        "perch_weight = np.array([5.9, 32.0, 40.0, 51.5, 70.0, 100.0, 78.0, 80.0, 85.0, 85.0, 110.0,\n",
        "       115.0, 125.0, 130.0, 120.0, 120.0, 130.0, 135.0, 110.0, 130.0,\n",
        "       150.0, 145.0, 150.0, 170.0, 225.0, 145.0, 188.0, 180.0, 197.0,\n",
        "       218.0, 300.0, 260.0, 265.0, 250.0, 250.0, 300.0, 320.0, 514.0,\n",
        "       556.0, 840.0, 685.0, 700.0, 700.0, 690.0, 900.0, 650.0, 820.0,\n",
        "       850.0, 900.0, 1015.0, 820.0, 1100.0, 1000.0, 1100.0, 1000.0,\n",
        "       1000.0])\n",
        "\n",
        "#아래 code: 농어 데이터를 훈련세트와 테스트 세트로 나눔\n",
        "from sklearn.model_selection import train_test_split\n",
        "train_input, test_input, train_target, test_target = train_test_split(perch_length, perch_weight, random_state =42)\n",
        "# perch_length가 1차원이기에, 이를 나눈 train_input과 test_input도 1차원 배열임\n",
        "train_input = train_input.reshape(-1,1)\n",
        "test_input = test_input.reshape(-1,1)"
      ]
    },
    {
      "cell_type": "code",
      "source": [
        "from sklearn.neighbors import KNeighborsRegressor\n",
        "knr = KNeighborsRegressor()\n",
        "# k최근접 이웃 회귀 모델을 훈련함\n",
        "knr.fit(train_input, train_target)\n",
        "print(knr.score(test_input, test_target)) #결정계수: coefficient of determination (R^2)"
      ],
      "metadata": {
        "colab": {
          "base_uri": "https://localhost:8080/"
        },
        "id": "_VNFxdmKsxPF",
        "outputId": "2c8037f9-28f9-4977-adcb-0f23164eb508"
      },
      "execution_count": 3,
      "outputs": [
        {
          "output_type": "stream",
          "name": "stdout",
          "text": [
            "0.992809406101064\n"
          ]
        }
      ]
    },
    {
      "cell_type": "code",
      "source": [
        "from sklearn.metrics import mean_absolute_error\n",
        "\n",
        "#test set에 대한 예측을 만듦\n",
        "test_prediction = knr.predict(test_input)\n",
        "\n",
        "# 테스트 세트에 대한 평균 절댓값 오차를 계산\n",
        "mae = mean_absolute_error(test_target, test_prediction)\n",
        "print(mae)\n",
        "\n",
        "# 결과에서 예측이 평균적으로 19g정도 target값과 다르다는 것을 알 수 있음"
      ],
      "metadata": {
        "colab": {
          "base_uri": "https://localhost:8080/"
        },
        "id": "wqQTvfdAuQB6",
        "outputId": "8dcbcf8b-96a5-485e-e424-61aed7fa4516"
      },
      "execution_count": 5,
      "outputs": [
        {
          "output_type": "stream",
          "name": "stdout",
          "text": [
            "19.157142857142862\n"
          ]
        }
      ]
    },
    {
      "cell_type": "code",
      "source": [
        "print(knr.score(train_input, train_target)) #R^2 값"
      ],
      "metadata": {
        "colab": {
          "base_uri": "https://localhost:8080/"
        },
        "id": "_dl0yanz0B77",
        "outputId": "ec054de2-8154-4e28-da98-07e22c0d14ec"
      },
      "execution_count": 6,
      "outputs": [
        {
          "output_type": "stream",
          "name": "stdout",
          "text": [
            "0.9698823289099254\n"
          ]
        }
      ]
    },
    {
      "cell_type": "markdown",
      "source": [
        "모델을 훈련 세트에 훈련하면 훈련 세트에 잘 맞는 모델이 만들어짐\n",
        "훈련 세트와 테스트 세트에서 평가하면, 보통 훈련 세트의 점수가 조금더 높게 나옴\n",
        "\n",
        "훈련 세트 점수 좋은데, 테스트 세트 점수 안좋음: 과대 적합 over fitting\n",
        "훈련 세트 점수 < 테스트 세트 점수 or 두점수 너무 낮음: underfitting\n",
        "과소적합이유:  훈련세트와 테스트 세트의 크기가 매우 작음\n",
        ""
      ],
      "metadata": {
        "id": "mFO-Vv2p8tjW"
      }
    },
    {
      "cell_type": "code",
      "source": [
        "\n",
        "#모델을 조금만 더 복잡하게 만들면, 훈련세트에 더 잘맞게 만들면 테스트 세트의 점수는 조금 더 낮아질 것.\n",
        "#K 최근접 이웃 알고리즘: 모델 복잡하게 하는방법은 이웃개수 k를 줄임\n",
        "#개수를 줄이면> 국지적인 패턴에 민감해짐\n",
        "\n",
        "#이웃의 개수를 3으로 설정\n",
        "knr.n_neighbors = 3\n",
        "#모델을 다시 훈련\n",
        "knr.fit(train_input, train_target)\n",
        "print(\"train set score:\", knr.score(train_input, train_target))\n",
        "print(\"test set score:\", knr.score(test_input, test_target))\n",
        "#test set score > target set score: 과소적합문제 해결"
      ],
      "metadata": {
        "colab": {
          "base_uri": "https://localhost:8080/"
        },
        "id": "pEWAOHccDIeo",
        "outputId": "bd1b0c6e-4906-472a-c0e8-ac06f917084e"
      },
      "execution_count": 13,
      "outputs": [
        {
          "output_type": "stream",
          "name": "stdout",
          "text": [
            "train set score: 0.9804899950518966\n",
            "test set score: 0.9746459963987609\n"
          ]
        }
      ]
    }
  ]
}